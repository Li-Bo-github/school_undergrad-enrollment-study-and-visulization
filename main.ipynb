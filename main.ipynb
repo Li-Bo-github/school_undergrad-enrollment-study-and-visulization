{
 "cells": [
  {
   "cell_type": "code",
   "execution_count": 1,
   "id": "cultural-portfolio",
   "metadata": {},
   "outputs": [],
   "source": [
    "# project: final\n",
    "# submitter: bli379\n",
    "# partner: none\n",
    "# hours: 10"
   ]
  },
  {
   "cell_type": "code",
   "execution_count": 61,
   "id": "sweet-affairs",
   "metadata": {},
   "outputs": [],
   "source": [
    "import pandas as pd\n",
    "import requests\n",
    "import os\n",
    "from sklearn.linear_model import LinearRegression\n",
    "from sklearn.decomposition import PCA\n",
    "from sklearn.pipeline import Pipeline\n",
    "from sklearn.preprocessing import StandardScaler,Normalizer,PolynomialFeatures\n",
    "from sklearn.metrics import confusion_matrix, precision_score, recall_score\n",
    "from sklearn.model_selection import train_test_split\n",
    "import matplotlib.pyplot as plt\n",
    "import xlrd\n",
    "from sklearn.compose import make_column_transformer\n",
    "from sklearn.model_selection import cross_val_score\n",
    "import numpy as np"
   ]
  },
  {
   "cell_type": "code",
   "execution_count": 3,
   "id": "fifty-velvet",
   "metadata": {},
   "outputs": [],
   "source": [
    "plt.rcParams[\"font.size\"] = 16"
   ]
  },
  {
   "cell_type": "code",
   "execution_count": 4,
   "id": "american-gambling",
   "metadata": {},
   "outputs": [
    {
     "data": {
      "text/html": [
       "<div>\n",
       "<style scoped>\n",
       "    .dataframe tbody tr th:only-of-type {\n",
       "        vertical-align: middle;\n",
       "    }\n",
       "\n",
       "    .dataframe tbody tr th {\n",
       "        vertical-align: top;\n",
       "    }\n",
       "\n",
       "    .dataframe thead th {\n",
       "        text-align: right;\n",
       "    }\n",
       "</style>\n",
       "<table border=\"1\" class=\"dataframe\">\n",
       "  <thead>\n",
       "    <tr style=\"text-align: right;\">\n",
       "      <th></th>\n",
       "      <th>population in thouthand</th>\n",
       "    </tr>\n",
       "    <tr>\n",
       "      <th>year</th>\n",
       "      <th></th>\n",
       "    </tr>\n",
       "  </thead>\n",
       "  <tbody>\n",
       "    <tr>\n",
       "      <th>1970</th>\n",
       "      <td>205089</td>\n",
       "    </tr>\n",
       "    <tr>\n",
       "      <th>1971</th>\n",
       "      <td>207692</td>\n",
       "    </tr>\n",
       "    <tr>\n",
       "      <th>1972</th>\n",
       "      <td>209924</td>\n",
       "    </tr>\n",
       "    <tr>\n",
       "      <th>1973</th>\n",
       "      <td>211939</td>\n",
       "    </tr>\n",
       "    <tr>\n",
       "      <th>1974</th>\n",
       "      <td>213898</td>\n",
       "    </tr>\n",
       "  </tbody>\n",
       "</table>\n",
       "</div>"
      ],
      "text/plain": [
       "     population in thouthand\n",
       "year                        \n",
       "1970                  205089\n",
       "1971                  207692\n",
       "1972                  209924\n",
       "1973                  211939\n",
       "1974                  213898"
      ]
     },
     "execution_count": 4,
     "metadata": {},
     "output_type": "execute_result"
    }
   ],
   "source": [
    "#unit Billions of Dollars\n",
    "population_url = 'https://fred.stlouisfed.org/graph/fredgraph.xls?bgcolor=%23e1e9f0&chart_type=line&drp=0&fo=open%20sans&graph_bgcolor=%23ffffff&height=450&mode=fred&recession_bars=on&txtcolor=%23444444&ts=12&tts=12&width=1168&nt=0&thu=0&trc=0&show_legend=yes&show_axis_titles=yes&show_tooltip=yes&id=B230RC0A052NBEA&scale=left&cosd=1929-01-01&coed=2020-01-01&line_color=%234572a7&link_values=false&line_style=solid&mark_type=none&mw=3&lw=2&ost=-99999&oet=99999&mma=0&fml=a&fq=Annual&fam=avg&fgst=lin&fgsnd=2020-01-01&line_index=1&transformation=lin&vintage_date=2021-04-25&revision_date=2021-04-25&nd=1929-01-01'\n",
    "population_df = pd.read_excel(population_url)\n",
    "population_df = population_df[51:100]\n",
    "population_df.columns = ['year','population in thouthands']\n",
    "\n",
    "year = []\n",
    "for i in range(1970,2019):\n",
    "    year.append(i)\n",
    "\n",
    "population_df = pd.DataFrame({'year': year,'population in thouthand':population_df['population in thouthands']})\n",
    "population_df['population in thouthand'] = population_df['population in thouthand']\n",
    "\n",
    "population_df.set_index('year', inplace=True)\n",
    "population_df.head()"
   ]
  },
  {
   "cell_type": "code",
   "execution_count": 5,
   "id": "sacred-fever",
   "metadata": {},
   "outputs": [
    {
     "data": {
      "text/html": [
       "<div>\n",
       "<style scoped>\n",
       "    .dataframe tbody tr th:only-of-type {\n",
       "        vertical-align: middle;\n",
       "    }\n",
       "\n",
       "    .dataframe tbody tr th {\n",
       "        vertical-align: top;\n",
       "    }\n",
       "\n",
       "    .dataframe thead th {\n",
       "        text-align: right;\n",
       "    }\n",
       "</style>\n",
       "<table border=\"1\" class=\"dataframe\">\n",
       "  <thead>\n",
       "    <tr style=\"text-align: right;\">\n",
       "      <th></th>\n",
       "      <th>gdp in billions</th>\n",
       "    </tr>\n",
       "    <tr>\n",
       "      <th>year</th>\n",
       "      <th></th>\n",
       "    </tr>\n",
       "  </thead>\n",
       "  <tbody>\n",
       "    <tr>\n",
       "      <th>1970</th>\n",
       "      <td>1073.3</td>\n",
       "    </tr>\n",
       "    <tr>\n",
       "      <th>1971</th>\n",
       "      <td>1164.85</td>\n",
       "    </tr>\n",
       "    <tr>\n",
       "      <th>1972</th>\n",
       "      <td>1279.11</td>\n",
       "    </tr>\n",
       "    <tr>\n",
       "      <th>1973</th>\n",
       "      <td>1425.38</td>\n",
       "    </tr>\n",
       "    <tr>\n",
       "      <th>1974</th>\n",
       "      <td>1545.24</td>\n",
       "    </tr>\n",
       "  </tbody>\n",
       "</table>\n",
       "</div>"
      ],
      "text/plain": [
       "     gdp in billions\n",
       "year                \n",
       "1970          1073.3\n",
       "1971         1164.85\n",
       "1972         1279.11\n",
       "1973         1425.38\n",
       "1974         1545.24"
      ]
     },
     "execution_count": 5,
     "metadata": {},
     "output_type": "execute_result"
    }
   ],
   "source": [
    "#unit Billions of Dollars\n",
    "gdp_url = 'https://fred.stlouisfed.org/graph/fredgraph.xls?bgcolor=%23e1e9f0&chart_type=line&drp=0&fo=open%20sans&graph_bgcolor=%23ffffff&height=450&mode=fred&recession_bars=on&txtcolor=%23444444&ts=12&tts=12&width=1168&nt=0&thu=0&trc=0&show_legend=yes&show_axis_titles=yes&show_tooltip=yes&id=GDPA&scale=left&cosd=1929-01-01&coed=2020-01-01&line_color=%234572a7&link_values=false&line_style=solid&mark_type=none&mw=3&lw=2&ost=-99999&oet=99999&mma=0&fml=a&fq=Annual&fam=avg&fgst=lin&fgsnd=2020-01-01&line_index=1&transformation=lin&vintage_date=2021-04-25&revision_date=2021-04-25&nd=1929-01-01'\n",
    "gdp_df = pd.read_excel(gdp_url)\n",
    "gdp_df = gdp_df[51:100]\n",
    "gdp_df.columns = ['year','dollar in billions']\n",
    "\n",
    "year = []\n",
    "for i in range(1970,2019):\n",
    "    year.append(i)\n",
    "\n",
    "gdp_df = pd.DataFrame({'year': year,'gdp in billions':gdp_df['dollar in billions']})\n",
    "gdp_df['gdp in billions'] = gdp_df['gdp in billions']\n",
    "gdp_df.set_index('year', inplace=True)\n",
    "gdp_df.head()"
   ]
  },
  {
   "cell_type": "code",
   "execution_count": 84,
   "id": "endless-franchise",
   "metadata": {},
   "outputs": [
    {
     "data": {
      "text/html": [
       "<div>\n",
       "<style scoped>\n",
       "    .dataframe tbody tr th:only-of-type {\n",
       "        vertical-align: middle;\n",
       "    }\n",
       "\n",
       "    .dataframe tbody tr th {\n",
       "        vertical-align: top;\n",
       "    }\n",
       "\n",
       "    .dataframe thead th {\n",
       "        text-align: right;\n",
       "    }\n",
       "</style>\n",
       "<table border=\"1\" class=\"dataframe\">\n",
       "  <thead>\n",
       "    <tr style=\"text-align: right;\">\n",
       "      <th></th>\n",
       "      <th>total</th>\n",
       "      <th>full-time</th>\n",
       "      <th>part-time</th>\n",
       "      <th>male</th>\n",
       "      <th>female</th>\n",
       "      <th>male-full-time</th>\n",
       "      <th>male-part-time</th>\n",
       "      <th>female-full-time</th>\n",
       "      <th>female-part-time</th>\n",
       "      <th>public</th>\n",
       "      <th>private</th>\n",
       "      <th>nonprofit</th>\n",
       "      <th>profit</th>\n",
       "    </tr>\n",
       "    <tr>\n",
       "      <th>year</th>\n",
       "      <th></th>\n",
       "      <th></th>\n",
       "      <th></th>\n",
       "      <th></th>\n",
       "      <th></th>\n",
       "      <th></th>\n",
       "      <th></th>\n",
       "      <th></th>\n",
       "      <th></th>\n",
       "      <th></th>\n",
       "      <th></th>\n",
       "      <th></th>\n",
       "      <th></th>\n",
       "    </tr>\n",
       "  </thead>\n",
       "  <tbody>\n",
       "    <tr>\n",
       "      <th>1970</th>\n",
       "      <td>7.368644</td>\n",
       "      <td>5.280064</td>\n",
       "      <td>2.088580</td>\n",
       "      <td>4.249702</td>\n",
       "      <td>3.118942</td>\n",
       "      <td>3.096371</td>\n",
       "      <td>1.153331</td>\n",
       "      <td>2.183693</td>\n",
       "      <td>0.935249</td>\n",
       "      <td>5.620255</td>\n",
       "      <td>1.748389</td>\n",
       "      <td>1.730133</td>\n",
       "      <td>0.018256</td>\n",
       "    </tr>\n",
       "    <tr>\n",
       "      <th>1975</th>\n",
       "      <td>9.679455</td>\n",
       "      <td>6.168396</td>\n",
       "      <td>3.511059</td>\n",
       "      <td>5.257005</td>\n",
       "      <td>4.422450</td>\n",
       "      <td>3.459328</td>\n",
       "      <td>1.797677</td>\n",
       "      <td>2.709068</td>\n",
       "      <td>1.713382</td>\n",
       "      <td>7.826032</td>\n",
       "      <td>1.853423</td>\n",
       "      <td>1.814844</td>\n",
       "      <td>0.038579</td>\n",
       "    </tr>\n",
       "    <tr>\n",
       "      <th>1980</th>\n",
       "      <td>10.475055</td>\n",
       "      <td>6.361744</td>\n",
       "      <td>4.113311</td>\n",
       "      <td>5.000177</td>\n",
       "      <td>5.474878</td>\n",
       "      <td>3.226857</td>\n",
       "      <td>1.773320</td>\n",
       "      <td>3.134887</td>\n",
       "      <td>2.339991</td>\n",
       "      <td>8.441955</td>\n",
       "      <td>2.033100</td>\n",
       "      <td>1.926703</td>\n",
       "      <td>0.106397</td>\n",
       "    </tr>\n",
       "    <tr>\n",
       "      <th>1985</th>\n",
       "      <td>10.596674</td>\n",
       "      <td>6.319592</td>\n",
       "      <td>4.277082</td>\n",
       "      <td>4.962080</td>\n",
       "      <td>5.634594</td>\n",
       "      <td>3.156446</td>\n",
       "      <td>1.805634</td>\n",
       "      <td>3.163146</td>\n",
       "      <td>2.471448</td>\n",
       "      <td>8.477125</td>\n",
       "      <td>2.119549</td>\n",
       "      <td>1.928996</td>\n",
       "      <td>0.190553</td>\n",
       "    </tr>\n",
       "    <tr>\n",
       "      <th>1986</th>\n",
       "      <td>10.797975</td>\n",
       "      <td>6.352073</td>\n",
       "      <td>4.445902</td>\n",
       "      <td>5.017505</td>\n",
       "      <td>5.780470</td>\n",
       "      <td>3.146330</td>\n",
       "      <td>1.871175</td>\n",
       "      <td>3.205743</td>\n",
       "      <td>2.574727</td>\n",
       "      <td>8.660716</td>\n",
       "      <td>2.137259</td>\n",
       "      <td>1.928294</td>\n",
       "      <td>0.208965</td>\n",
       "    </tr>\n",
       "  </tbody>\n",
       "</table>\n",
       "</div>"
      ],
      "text/plain": [
       "          total  full-time  part-time      male    female  male-full-time  \\\n",
       "year                                                                        \n",
       "1970   7.368644   5.280064   2.088580  4.249702  3.118942        3.096371   \n",
       "1975   9.679455   6.168396   3.511059  5.257005  4.422450        3.459328   \n",
       "1980  10.475055   6.361744   4.113311  5.000177  5.474878        3.226857   \n",
       "1985  10.596674   6.319592   4.277082  4.962080  5.634594        3.156446   \n",
       "1986  10.797975   6.352073   4.445902  5.017505  5.780470        3.146330   \n",
       "\n",
       "      male-part-time  female-full-time  female-part-time    public   private  \\\n",
       "year                                                                           \n",
       "1970        1.153331          2.183693          0.935249  5.620255  1.748389   \n",
       "1975        1.797677          2.709068          1.713382  7.826032  1.853423   \n",
       "1980        1.773320          3.134887          2.339991  8.441955  2.033100   \n",
       "1985        1.805634          3.163146          2.471448  8.477125  2.119549   \n",
       "1986        1.871175          3.205743          2.574727  8.660716  2.137259   \n",
       "\n",
       "      nonprofit    profit  \n",
       "year                       \n",
       "1970   1.730133  0.018256  \n",
       "1975   1.814844  0.038579  \n",
       "1980   1.926703  0.106397  \n",
       "1985   1.928996  0.190553  \n",
       "1986   1.928294  0.208965  "
      ]
     },
     "execution_count": 84,
     "metadata": {},
     "output_type": "execute_result"
    }
   ],
   "source": [
    "sex_url = 'https://nces.ed.gov/programs/digest/d19/tables/xls/tabn303.70.xls'\n",
    "sex_df = pd.read_excel(sex_url)\n",
    "#set index\n",
    "sex_df.columns = ['year','total','full-time','part-time','male','female','male-full-time','male-part-time','female-full-time','female-part-time','public','private','nonprofit','profit']\n",
    "\n",
    "#slice valueble data and delete misplaced title\n",
    "sex_df = sex_df[4:41]\n",
    "\n",
    "#replace --- with 0\n",
    "sex_df=sex_df.mask(sex_df=='---').fillna(0)\n",
    "\n",
    "#set year as index\n",
    "sex_df.set_index('year', inplace=True)\n",
    "sex_df = sex_df/1000000\n",
    "sex_df.head()"
   ]
  },
  {
   "cell_type": "code",
   "execution_count": 85,
   "id": "developmental-ozone",
   "metadata": {},
   "outputs": [
    {
     "data": {
      "text/html": [
       "<div>\n",
       "<style scoped>\n",
       "    .dataframe tbody tr th:only-of-type {\n",
       "        vertical-align: middle;\n",
       "    }\n",
       "\n",
       "    .dataframe tbody tr th {\n",
       "        vertical-align: top;\n",
       "    }\n",
       "\n",
       "    .dataframe thead th {\n",
       "        text-align: right;\n",
       "    }\n",
       "</style>\n",
       "<table border=\"1\" class=\"dataframe\">\n",
       "  <thead>\n",
       "    <tr style=\"text-align: right;\">\n",
       "      <th></th>\n",
       "      <th>resident population</th>\n",
       "      <th>18-19</th>\n",
       "      <th>school age percentage of resident population</th>\n",
       "    </tr>\n",
       "    <tr>\n",
       "      <th>year</th>\n",
       "      <th></th>\n",
       "      <th></th>\n",
       "      <th></th>\n",
       "    </tr>\n",
       "  </thead>\n",
       "  <tbody>\n",
       "    <tr>\n",
       "      <th>1970</th>\n",
       "      <td>205052</td>\n",
       "      <td>7509.68</td>\n",
       "      <td>3.66233</td>\n",
       "    </tr>\n",
       "    <tr>\n",
       "      <th>1971</th>\n",
       "      <td>207661</td>\n",
       "      <td>7714.53</td>\n",
       "      <td>3.71497</td>\n",
       "    </tr>\n",
       "    <tr>\n",
       "      <th>1972</th>\n",
       "      <td>209896</td>\n",
       "      <td>7923.25</td>\n",
       "      <td>3.77484</td>\n",
       "    </tr>\n",
       "    <tr>\n",
       "      <th>1973</th>\n",
       "      <td>211909</td>\n",
       "      <td>8113.94</td>\n",
       "      <td>3.82898</td>\n",
       "    </tr>\n",
       "    <tr>\n",
       "      <th>1974</th>\n",
       "      <td>213854</td>\n",
       "      <td>8257.47</td>\n",
       "      <td>3.86127</td>\n",
       "    </tr>\n",
       "  </tbody>\n",
       "</table>\n",
       "</div>"
      ],
      "text/plain": [
       "     resident population    18-19 school age percentage of resident population\n",
       "year                                                                          \n",
       "1970              205052  7509.68                                      3.66233\n",
       "1971              207661  7714.53                                      3.71497\n",
       "1972              209896  7923.25                                      3.77484\n",
       "1973              211909  8113.94                                      3.82898\n",
       "1974              213854  8257.47                                      3.86127"
      ]
     },
     "execution_count": 85,
     "metadata": {},
     "output_type": "execute_result"
    }
   ],
   "source": [
    "age_url = 'https://nces.ed.gov/programs/digest/d19/tables/xls/tabn101.10.xls'\n",
    "age_df = pd.read_excel(age_url)\n",
    "#set index\n",
    "age_df.columns = ['year',1,2,3,4,5,6,7,8,9,10,11]\n",
    "\n",
    "#drop unrelated col\n",
    "age_df.drop(columns=[2,3,4,5,6,8,9,10,11], inplace=True)\n",
    "age_df.columns = ['year','resident population','18-19']\n",
    "\n",
    "age_df= age_df[3:52]\n",
    "#find percentage of undegrate enroll year / total\n",
    "age_df['school age percentage of resident population'] = (age_df['18-19'] / age_df['resident population'])*100\n",
    "\n",
    "#set year as index\n",
    "age_df.set_index('year', inplace=True)\n",
    "age_df.head()"
   ]
  },
  {
   "cell_type": "code",
   "execution_count": 96,
   "id": "bulgarian-cigarette",
   "metadata": {},
   "outputs": [
    {
     "data": {
      "text/html": [
       "<div>\n",
       "<style scoped>\n",
       "    .dataframe tbody tr th:only-of-type {\n",
       "        vertical-align: middle;\n",
       "    }\n",
       "\n",
       "    .dataframe tbody tr th {\n",
       "        vertical-align: top;\n",
       "    }\n",
       "\n",
       "    .dataframe thead th {\n",
       "        text-align: right;\n",
       "    }\n",
       "</style>\n",
       "<table border=\"1\" class=\"dataframe\">\n",
       "  <thead>\n",
       "    <tr style=\"text-align: right;\">\n",
       "      <th></th>\n",
       "      <th>total in millions</th>\n",
       "      <th>school age/resident population %</th>\n",
       "      <th>gdp in billions</th>\n",
       "      <th>population in thouthand</th>\n",
       "    </tr>\n",
       "    <tr>\n",
       "      <th>year</th>\n",
       "      <th></th>\n",
       "      <th></th>\n",
       "      <th></th>\n",
       "      <th></th>\n",
       "    </tr>\n",
       "  </thead>\n",
       "  <tbody>\n",
       "    <tr>\n",
       "      <th>1970</th>\n",
       "      <td>7.368644</td>\n",
       "      <td>3.66233</td>\n",
       "      <td>1073.3</td>\n",
       "      <td>205089</td>\n",
       "    </tr>\n",
       "    <tr>\n",
       "      <th>1975</th>\n",
       "      <td>9.679455</td>\n",
       "      <td>3.92571</td>\n",
       "      <td>1684.9</td>\n",
       "      <td>215981</td>\n",
       "    </tr>\n",
       "    <tr>\n",
       "      <th>1980</th>\n",
       "      <td>10.475055</td>\n",
       "      <td>3.83673</td>\n",
       "      <td>2857.31</td>\n",
       "      <td>227726</td>\n",
       "    </tr>\n",
       "    <tr>\n",
       "      <th>1985</th>\n",
       "      <td>10.596674</td>\n",
       "      <td>3.20985</td>\n",
       "      <td>4338.98</td>\n",
       "      <td>238506</td>\n",
       "    </tr>\n",
       "    <tr>\n",
       "      <th>1986</th>\n",
       "      <td>10.797975</td>\n",
       "      <td>3.11619</td>\n",
       "      <td>4579.63</td>\n",
       "      <td>240683</td>\n",
       "    </tr>\n",
       "  </tbody>\n",
       "</table>\n",
       "</div>"
      ],
      "text/plain": [
       "      total in millions school age/resident population % gdp in billions  \\\n",
       "year                                                                       \n",
       "1970           7.368644                          3.66233          1073.3   \n",
       "1975           9.679455                          3.92571          1684.9   \n",
       "1980          10.475055                          3.83673         2857.31   \n",
       "1985          10.596674                          3.20985         4338.98   \n",
       "1986          10.797975                          3.11619         4579.63   \n",
       "\n",
       "     population in thouthand  \n",
       "year                          \n",
       "1970                  205089  \n",
       "1975                  215981  \n",
       "1980                  227726  \n",
       "1985                  238506  \n",
       "1986                  240683  "
      ]
     },
     "execution_count": 96,
     "metadata": {},
     "output_type": "execute_result"
    }
   ],
   "source": [
    "#merge two together\n",
    "result_df = pd.concat([sex_df['total'], age_df['school age percentage of resident population'],gdp_df,population_df], axis=1, join=\"inner\")\n",
    "result_df.columns = ['total in millions','school age/resident population %','gdp in billions','population in thouthand']\n",
    "result_df.head()"
   ]
  },
  {
   "cell_type": "code",
   "execution_count": 99,
   "id": "qualified-parameter",
   "metadata": {
    "scrolled": true
   },
   "outputs": [
    {
     "data": {
      "text/plain": [
       "Text(0.5, 1.0, 'Figure 1: Undergraduate enrollment, by sex')"
      ]
     },
     "execution_count": 99,
     "metadata": {},
     "output_type": "execute_result"
    },
    {
     "data": {
      "image/png": "[encoded data removed]",
      "text/plain": [
       "<Figure size 432x288 with 1 Axes>"
      ]
     },
     "metadata": {
      "needs_background": "light"
     },
     "output_type": "display_data"
    }
   ],
   "source": [
    "#figure one: male, female\n",
    "male = sex_df['male']\n",
    "female = sex_df['female'] \n",
    "total = sex_df['total']\n",
    "\n",
    "ax = total.plot.line(label=\"total\")\n",
    "ax = male.plot.line(label=\"male\")\n",
    "ax = female.plot.line(label=\"female\")\n",
    "\n",
    "\n",
    "ax.legend(frameon=False)\n",
    "ax.spines[\"top\"].set_visible(False)\n",
    "ax.spines[\"right\"].set_visible(False)\n",
    "\n",
    "ax.set_ylabel(\"Enrollment, in millions\")\n",
    "ax.set_xlabel(\"Year\")\n",
    "ax.set_title(\"Figure 1: Undergraduate enrollment, by sex\", pad=20)"
   ]
  },
  {
   "cell_type": "code",
   "execution_count": 102,
   "id": "dress-firmware",
   "metadata": {},
   "outputs": [],
   "source": [
    "xcols = ['school age/resident population %','gdp in billions','population in thouthand']\n",
    "ycol = \"total in millions\""
   ]
  },
  {
   "cell_type": "code",
   "execution_count": 107,
   "id": "heated-vocabulary",
   "metadata": {
    "scrolled": true
   },
   "outputs": [
    {
     "name": "stdout",
     "output_type": "stream",
     "text": [
      "1    0.999281\n",
      "2    1.000000\n",
      "3    1.000000\n",
      "dtype: float64\n",
      "1    0.868062\n",
      "2    0.996404\n",
      "3    1.000000\n",
      "dtype: float64\n"
     ]
    },
    {
     "data": {
      "text/plain": [
       "Text(0.5, 1.0, 'Figure 2: Principal Components Analysis')"
      ]
     },
     "execution_count": 107,
     "metadata": {},
     "output_type": "execute_result"
    },
    {
     "data": {
      "image/png": "[encoded data removed]",
      "text/plain": [
       "<Figure size 432x288 with 1 Axes>"
      ]
     },
     "metadata": {
      "needs_background": "light"
     },
     "output_type": "display_data"
    }
   ],
   "source": [
    "def explained(scale):\n",
    "    stages = []\n",
    "    if scale:\n",
    "        stages.append((\"std\", StandardScaler()))\n",
    "    stages.append((\"pca\", PCA()))\n",
    "    p = Pipeline(stages)\n",
    "    p.fit(result_df[xcols])\n",
    "    #print(p[\"pca\"].components_.round(2))\n",
    "    explained = p[\"pca\"].explained_variance_\n",
    "    s = pd.Series(explained.cumsum() / explained.sum(),\n",
    "                  index=range(1, len(xcols)+1))\n",
    "    \n",
    "    print(s)\n",
    "    return s\n",
    "\n",
    "ax = explained(False).plot.line(label=\"not scaled\", ylim=0)\n",
    "explained(True).plot.line(label=\"scaled\", ax=ax)\n",
    "ax.set_xlabel(\"Number of Components\")\n",
    "ax.set_ylabel(\"Explained Variance\")\n",
    "ax.set_xticks([1,2,3])\n",
    "ax.spines[\"top\"].set_visible(False)\n",
    "ax.spines[\"right\"].set_visible(False)\n",
    "ax.legend(frameon=False)\n",
    "ax.set_title(\"Figure 2: Principal Components Analysis\", pad=20)"
   ]
  },
  {
   "cell_type": "code",
   "execution_count": 120,
   "id": "saving-cleaner",
   "metadata": {},
   "outputs": [],
   "source": [
    "train, test = train_test_split(result_df, random_state=0)\n",
    "p = Pipeline([\n",
    "    (\"both\", make_column_transformer(\n",
    "                                     (StandardScaler(), xcols),\n",
    " \n",
    "                                     remainder = 'passthrough')),\n",
    "    (\"lr\", LinearRegression())\n",
    "])"
   ]
  },
  {
   "cell_type": "code",
   "execution_count": 123,
   "id": "contemporary-worth",
   "metadata": {},
   "outputs": [
    {
     "data": {
      "text/plain": [
       "0.8847727350662244"
      ]
     },
     "execution_count": 123,
     "metadata": {},
     "output_type": "execute_result"
    }
   ],
   "source": [
    "p.fit(train[xcols],train[ycol])\n",
    "p.score(test[xcols],test[ycol])"
   ]
  },
  {
   "cell_type": "code",
   "execution_count": 124,
   "id": "needed-chile",
   "metadata": {},
   "outputs": [
    {
     "data": {
      "text/plain": [
       "array([ 0.6581983 , -1.30471385,  4.5472452 ])"
      ]
     },
     "execution_count": 124,
     "metadata": {},
     "output_type": "execute_result"
    }
   ],
   "source": [
    "coef = p['lr'].coef_\n",
    "coef"
   ]
  },
  {
   "cell_type": "code",
   "execution_count": 125,
   "id": "digital-hepatitis",
   "metadata": {},
   "outputs": [
    {
     "data": {
      "text/plain": [
       "Text(0.5, 1.0, 'Figure 3: Linear Regression Coefficients')"
      ]
     },
     "execution_count": 125,
     "metadata": {},
     "output_type": "execute_result"
    },
    {
     "data": {
      "image/png": "[encoded data removed]",
      "text/plain": [
       "<Figure size 432x288 with 1 Axes>"
      ]
     },
     "metadata": {
      "needs_background": "light"
     },
     "output_type": "display_data"
    }
   ],
   "source": [
    "ax = pd.Series(p[\"lr\"].coef_, index=xcols).plot.barh()\n",
    "\n",
    "ax.set_xlabel(\"Weight\")\n",
    "ax.set_ylabel(\"Feature\")\n",
    "ax.spines[\"top\"].set_visible(False)\n",
    "ax.spines[\"right\"].set_visible(False)\n",
    "ax.set_title(\"Figure 3: Linear Regression Coefficients\", pad=20)"
   ]
  }
 ],
 "metadata": {
  "kernelspec": {
   "display_name": "Python 3",
   "language": "python",
   "name": "python3"
  },
  "language_info": {
   "codemirror_mode": {
    "name": "ipython",
    "version": 3
   },
   "file_extension": ".py",
   "mimetype": "text/x-python",
   "name": "python",
   "nbconvert_exporter": "python",
   "pygments_lexer": "ipython3",
   "version": "3.6.9"
  }
 },
 "nbformat": 4,
 "nbformat_minor": 5
}
